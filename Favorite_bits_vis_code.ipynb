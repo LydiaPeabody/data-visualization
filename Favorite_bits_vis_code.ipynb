{
 "cells": [
  {
   "cell_type": "code",
   "execution_count": null,
   "metadata": {},
   "outputs": [],
   "source": [
    "#plotting multiple elements on the same axes\n",
    "fig, axes = plt.subplots(2,2, figsize=(30,15))\n",
    "\n",
    "sns.distplot(sat_df['Rate'],ax=axes[0][0],bins=10)\n",
    "sns.distplot(sat_df['Math'],ax=axes[0][1],bins=20)\n",
    "sns.distplot(sat_df['Verbal'],ax=axes[1][0],bins=20)\n",
    "fig.suptitle('Distributions of SAT data',fontsize=40)"
   ]
  },
  {
   "cell_type": "code",
   "execution_count": null,
   "metadata": {},
   "outputs": [],
   "source": [
    "#using a loop to generate plots on the same axes\n",
    "fig, axes = plt.subplots(4,3, figsize=(30,15))\n",
    "\n",
    "fig.suptitle('Overall Title',fontsize=40)\n",
    "\n",
    "col=0\n",
    "row=0\n",
    "\n",
    "for column in df:\n",
    "    sns.distplot(df[column],ax=axes[row][col])\n",
    "    if col == 2:\n",
    "        row +=1\n",
    "        col = 0\n",
    "    else:\n",
    "        col += 1"
   ]
  },
  {
   "cell_type": "code",
   "execution_count": null,
   "metadata": {},
   "outputs": [],
   "source": [
    "#masked heatmap\n",
    "\n",
    "\n",
    "fix, ax = plt.subplots(figsize=(10,8))\n",
    "\n",
    "# Generate a mask for the upper triangle (taken from seaborn example gallery)\n",
    "mask = np.zeros_like(df.corr(), dtype=np.bool)\n",
    "mask[np.triu_indices_from(mask)] = True\n",
    "\n",
    "# Plot the heatmap with seaborn.\n",
    "ax = sns.heatmap(df(), center=0, cmap='BrBG', mask=mask, ax=ax)\n",
    "\n",
    "# Resize the labels.\n",
    "ax.set_xticklabels(ax.xaxis.get_ticklabels(), fontsize=14)\n",
    "ax.set_yticklabels(ax.yaxis.get_ticklabels(), fontsize=14)\n",
    "\n",
    "plt.show()"
   ]
  }
 ],
 "metadata": {
  "kernelspec": {
   "display_name": "Python 3",
   "language": "python",
   "name": "python3"
  },
  "language_info": {
   "codemirror_mode": {
    "name": "ipython",
    "version": 3
   },
   "file_extension": ".py",
   "mimetype": "text/x-python",
   "name": "python",
   "nbconvert_exporter": "python",
   "pygments_lexer": "ipython3",
   "version": "3.7.3"
  }
 },
 "nbformat": 4,
 "nbformat_minor": 2
}
